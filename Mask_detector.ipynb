{
 "cells": [
  {
   "cell_type": "markdown",
   "metadata": {},
   "source": [
    "# Mask detection system\n",
    "**Hind Baageel**\n",
    "\n",
    "*in this project, we implmented a mask detection system with the help of open cv library*\n",
    "\n",
    "*The system work by first detecting faces in a an image or a video, then uses deep learning to detect if the person wears mask or not.*\n",
    "\n",
    "code were taken from **Hussain Mujtaba** \n",
    "\n",
    "https://www.mygreatlearning.com/blog/real-time-face-detection/"
   ]
  },
  {
   "cell_type": "code",
   "execution_count": 12,
   "metadata": {},
   "outputs": [],
   "source": [
    "from tensorflow.keras.preprocessing.image import ImageDataGenerator\n",
    "from tensorflow.keras.applications import MobileNetV2\n",
    "from tensorflow.keras.layers import AveragePooling2D\n",
    "from tensorflow.keras.layers import Dropout\n",
    "from tensorflow.keras.layers import Flatten\n",
    "from tensorflow.keras.layers import Dense\n",
    "from tensorflow.keras.layers import Input\n",
    "from tensorflow.keras.models import Model\n",
    "from tensorflow.keras.optimizers import Adam\n",
    "from tensorflow.keras.applications.mobilenet_v2 import preprocess_input\n",
    "from tensorflow.keras.preprocessing.image import img_to_array\n",
    "from tensorflow.keras.preprocessing.image import load_img\n",
    "from tensorflow.keras.utils import to_categorical\n",
    "from sklearn.preprocessing import LabelBinarizer\n",
    "from sklearn.model_selection import train_test_split\n",
    "from sklearn.metrics import classification_report\n",
    "from imutils import paths\n",
    "import matplotlib.pyplot as plt\n",
    "import numpy as np\n",
    "import argparse\n",
    "import os"
   ]
  },
  {
   "cell_type": "code",
   "execution_count": 4,
   "metadata": {},
   "outputs": [],
   "source": [
    "imagePaths = list(paths.list_images('dataset'))\n",
    "data = []\n",
    "labels = []\n",
    "# loop over the image paths\n",
    "for imagePath in imagePaths:\n",
    "        # extract the class label from the filename\n",
    "        label = imagePath.split(os.path.sep)[-2] # OS.path.sep split the path names into a list and -2 takes the second before last folder name\n",
    "        \n",
    "        \n",
    "        # load the input image (224x224) and preprocess it\n",
    "        image = load_img(imagePath, target_size=(224, 224))\n",
    "        image = img_to_array(image)\n",
    "        image = preprocess_input(image)\n",
    "        \n",
    "        # update the data and labels lists, respectively\n",
    "        data.append(image)\n",
    "        labels.append(label)\n",
    "        \n",
    "# convert the data and labels to NumPy arrays\n",
    "data = np.array(data, dtype=\"float32\")\n",
    "labels = np.array(labels)"
   ]
  },
  {
   "cell_type": "code",
   "execution_count": 38,
   "metadata": {},
   "outputs": [],
   "source": [
    "baseModel = MobileNetV2(weights=\"imagenet\", include_top=False,\n",
    "        input_shape=(224, 224, 3))\n",
    "# construct the head of the model that will be placed on top of the\n",
    "# the base model\n",
    "headModel = baseModel.output\n",
    "headModel = AveragePooling2D(pool_size=(7, 7))(headModel)\n",
    "headModel = Flatten(name=\"flatten\")(headModel)\n",
    "headModel = Dense(128, activation=\"relu\")(headModel)\n",
    "headModel = Dropout(0.5)(headModel)\n",
    "headModel = Dense(2, activation=\"softmax\")(headModel)\n",
    "\n",
    "# place the head FC model on top of the base model (this will become\n",
    "# the actual model we will train)\n",
    "model = Model(inputs=baseModel.input, outputs=headModel)\n",
    "# loop over all layers in the base model and freeze them so they will\n",
    "# *not* be updated during the first training process\n",
    "for layer in baseModel.layers:\n",
    "        layer.trainable = False"
   ]
  },
  {
   "cell_type": "code",
   "execution_count": 39,
   "metadata": {},
   "outputs": [],
   "source": [
    "lb = LabelBinarizer()\n",
    "labels = lb.fit_transform(labels)\n",
    "labels = to_categorical(labels)\n",
    "# partition the data into training and testing splits using 80% of\n",
    "# the data for training and the remaining 20% for testing\n",
    "(trainX, testX, trainY, testY) = train_test_split(data, labels,\n",
    "        test_size=0.20, stratify=labels, random_state=42)\n",
    "# construct the training image generator for data augmentation\n",
    "aug = ImageDataGenerator(\n",
    "        rotation_range=20,\n",
    "        zoom_range=0.15,\n",
    "        width_shift_range=0.2,\n",
    "        height_shift_range=0.2,\n",
    "        shear_range=0.15,\n",
    "        horizontal_flip=True,\n",
    "        fill_mode=\"nearest\")"
   ]
  },
  {
   "cell_type": "code",
   "execution_count": 40,
   "metadata": {},
   "outputs": [
    {
     "name": "stdout",
     "output_type": "stream",
     "text": [
      "[INFO] compiling model...\n",
      "[INFO] training head...\n",
      "Epoch 1/20\n",
      "34/34 [==============================] - 8s 244ms/step - loss: 0.3348 - accuracy: 0.8502 - val_loss: 0.0962 - val_accuracy: 0.9819\n",
      "Epoch 2/20\n",
      "34/34 [==============================] - 7s 201ms/step - loss: 0.1138 - accuracy: 0.9672 - val_loss: 0.0492 - val_accuracy: 0.9964\n",
      "Epoch 3/20\n",
      "34/34 [==============================] - 7s 201ms/step - loss: 0.0655 - accuracy: 0.9822 - val_loss: 0.0339 - val_accuracy: 0.9964\n",
      "Epoch 4/20\n",
      "34/34 [==============================] - 7s 201ms/step - loss: 0.0580 - accuracy: 0.9822 - val_loss: 0.0259 - val_accuracy: 0.9964\n",
      "Epoch 5/20\n",
      "34/34 [==============================] - 7s 201ms/step - loss: 0.0355 - accuracy: 0.9925 - val_loss: 0.0208 - val_accuracy: 0.9964\n",
      "Epoch 6/20\n",
      "34/34 [==============================] - 7s 201ms/step - loss: 0.0253 - accuracy: 0.9944 - val_loss: 0.0181 - val_accuracy: 0.9964\n",
      "Epoch 7/20\n",
      "34/34 [==============================] - 7s 203ms/step - loss: 0.0283 - accuracy: 0.9934 - val_loss: 0.0166 - val_accuracy: 0.9964\n",
      "Epoch 8/20\n",
      "34/34 [==============================] - 7s 203ms/step - loss: 0.0269 - accuracy: 0.9925 - val_loss: 0.0175 - val_accuracy: 0.9928\n",
      "Epoch 9/20\n",
      "34/34 [==============================] - 7s 203ms/step - loss: 0.0258 - accuracy: 0.9934 - val_loss: 0.0142 - val_accuracy: 0.9964\n",
      "Epoch 10/20\n",
      "34/34 [==============================] - 7s 205ms/step - loss: 0.0184 - accuracy: 0.9916 - val_loss: 0.0129 - val_accuracy: 0.9964\n",
      "Epoch 11/20\n",
      "34/34 [==============================] - 7s 209ms/step - loss: 0.0201 - accuracy: 0.9925 - val_loss: 0.0134 - val_accuracy: 0.9928\n",
      "Epoch 12/20\n",
      "34/34 [==============================] - 7s 218ms/step - loss: 0.0210 - accuracy: 0.9944 - val_loss: 0.0120 - val_accuracy: 0.9964\n",
      "Epoch 13/20\n",
      "34/34 [==============================] - 7s 204ms/step - loss: 0.0125 - accuracy: 0.9963 - val_loss: 0.0112 - val_accuracy: 0.9964\n",
      "Epoch 14/20\n",
      "34/34 [==============================] - 7s 202ms/step - loss: 0.0155 - accuracy: 0.9953 - val_loss: 0.0158 - val_accuracy: 0.9964\n",
      "Epoch 15/20\n",
      "34/34 [==============================] - 7s 200ms/step - loss: 0.0094 - accuracy: 0.9991 - val_loss: 0.0111 - val_accuracy: 0.9928\n",
      "Epoch 16/20\n",
      "34/34 [==============================] - 7s 200ms/step - loss: 0.0111 - accuracy: 0.9972 - val_loss: 0.0111 - val_accuracy: 0.9928\n",
      "Epoch 17/20\n",
      "34/34 [==============================] - 7s 206ms/step - loss: 0.0204 - accuracy: 0.9934 - val_loss: 0.0109 - val_accuracy: 0.9964\n",
      "Epoch 18/20\n",
      "34/34 [==============================] - 7s 204ms/step - loss: 0.0066 - accuracy: 0.9981 - val_loss: 0.0109 - val_accuracy: 0.9964\n",
      "Epoch 19/20\n",
      "34/34 [==============================] - 7s 207ms/step - loss: 0.0054 - accuracy: 0.9991 - val_loss: 0.0121 - val_accuracy: 0.9928\n",
      "Epoch 20/20\n",
      "34/34 [==============================] - 7s 205ms/step - loss: 0.0059 - accuracy: 0.9981 - val_loss: 0.0096 - val_accuracy: 0.9964\n"
     ]
    }
   ],
   "source": [
    "INIT_LR = 1e-4\n",
    "EPOCHS = 20\n",
    "BS = 32\n",
    "print(\"[INFO] compiling model...\")\n",
    "opt = Adam(lr=INIT_LR, decay=INIT_LR / EPOCHS)\n",
    "model.compile(loss=\"binary_crossentropy\", optimizer=opt,\n",
    "        metrics=[\"accuracy\"])\n",
    "# train the head of the network\n",
    "print(\"[INFO] training head...\")\n",
    "H = model.fit(\n",
    "        aug.flow(trainX, trainY, batch_size=BS),\n",
    "        steps_per_epoch=len(trainX) // BS,\n",
    "        validation_data=(testX, testY),\n",
    "        validation_steps=len(testX) // BS,\n",
    "        epochs=EPOCHS)"
   ]
  },
  {
   "cell_type": "code",
   "execution_count": 42,
   "metadata": {},
   "outputs": [
    {
     "data": {
      "text/plain": [
       "<matplotlib.legend.Legend at 0x1b7d14f75c8>"
      ]
     },
     "execution_count": 42,
     "metadata": {},
     "output_type": "execute_result"
    },
    {
     "data": {
      "image/png": "[encoded data removed]",
      "text/plain": [
       "<Figure size 432x288 with 1 Axes>"
      ]
     },
     "metadata": {},
     "output_type": "display_data"
    }
   ],
   "source": [
    "N = EPOCHS\n",
    "plt.style.use(\"ggplot\")\n",
    "plt.figure()\n",
    "plt.plot(np.arange(0, N), H.history[\"loss\"], label=\"train_loss\")\n",
    "plt.plot(np.arange(0, N), H.history[\"val_loss\"], label=\"val_loss\")\n",
    "plt.plot(np.arange(0, N), H.history[\"accuracy\"], label=\"train_acc\")\n",
    "plt.plot(np.arange(0, N), H.history[\"val_accuracy\"], label=\"val_acc\")\n",
    "plt.title(\"Training Loss and Accuracy\")\n",
    "plt.xlabel(\"Epoch #\")\n",
    "plt.ylabel(\"Loss/Accuracy\")\n",
    "plt.legend(loc=\"lower left\")"
   ]
  },
  {
   "cell_type": "code",
   "execution_count": 47,
   "metadata": {},
   "outputs": [],
   "source": [
    "#To save the trained model\n",
    "model.save('mask_recog_ver2.h5')"
   ]
  },
  {
   "cell_type": "markdown",
   "metadata": {},
   "source": [
    "### *Now the Deep Learning model has been trained sucessfully and ready to be used as a predictor.*\n",
    "\n",
    "#### *we will use the saved DL model to predict if a person wears a mask or not in a static image.*"
   ]
  },
  {
   "cell_type": "code",
   "execution_count": 1,
   "metadata": {},
   "outputs": [],
   "source": [
    "import cv2\n",
    "import os\n",
    "from tensorflow.keras.preprocessing.image import img_to_array\n",
    "from tensorflow.keras.models import load_model\n",
    "from tensorflow.keras.applications.mobilenet_v2 import preprocess_input\n",
    "import numpy as np"
   ]
  },
  {
   "cell_type": "code",
   "execution_count": 2,
   "metadata": {},
   "outputs": [],
   "source": [
    "#using the pre-trained harrcascade face detection model available in Open CV library\n",
    "faceCascade = cv2.CascadeClassifier(cv2.data.haarcascades + 'haarcascade_frontalface_default.xml')\n",
    "\n",
    "# Loading the pre-trained DL model\n",
    "model = load_model('mask_recog_ver2.h5')"
   ]
  },
  {
   "cell_type": "code",
   "execution_count": 3,
   "metadata": {},
   "outputs": [],
   "source": [
    "#Loading the image\n",
    "\n",
    "image = cv2.imread(\"19.jpg\")\n",
    "\n",
    "#harrcascade detection model only works on grey images, so we need to convert the image into gray\n",
    "\n",
    "gray = cv2.cvtColor(image, cv2.COLOR_BGR2GRAY)\n",
    "\n",
    "#faces is a list of the detected faces' locations\n",
    "faces = faceCascade.detectMultiScale(gray,1.1,5)"
   ]
  },
  {
   "cell_type": "code",
   "execution_count": 4,
   "metadata": {},
   "outputs": [],
   "source": [
    "faces_list=[]\n",
    "\n",
    "preds=[]\n",
    "\n",
    "for (x, y, w, h) in faces:\n",
    "    face_frame = image[y:y+h,x:x+w]\n",
    "    face_frame = cv2.cvtColor(face_frame, cv2.COLOR_BGR2RGB)\n",
    "    face_frame = cv2.resize(face_frame, (224, 224))\n",
    "    face_frame = img_to_array(face_frame)\n",
    "    face_frame = np.expand_dims(face_frame, axis=0)\n",
    "    face_frame =  preprocess_input(face_frame)\n",
    "    faces_list.append(face_frame)\n",
    "    \n",
    "    if len(faces_list)>0:\n",
    "        preds = model.predict(faces_list)\n",
    "        \n",
    "    for pred in preds:\n",
    "    #mask contain Probability of wearing a mask and vice versa\n",
    "         (mask, withoutMask) = pred "
   ]
  },
  {
   "cell_type": "markdown",
   "metadata": {},
   "source": [
    "### *Now after we calculated the probability of wearing a mask, we will show the final label in top of the static image using a colored rectangele. red rectangle for (no mask label) and green rectangle for (mask label)*"
   ]
  },
  {
   "cell_type": "code",
   "execution_count": 7,
   "metadata": {
    "scrolled": true
   },
   "outputs": [
    {
     "data": {
      "text/plain": [
       "array([[[248, 250, 250],\n",
       "        [248, 250, 250],\n",
       "        [248, 250, 250],\n",
       "        ...,\n",
       "        [249, 251, 251],\n",
       "        [249, 251, 251],\n",
       "        [249, 251, 251]],\n",
       "\n",
       "       [[248, 250, 250],\n",
       "        [248, 250, 250],\n",
       "        [248, 250, 250],\n",
       "        ...,\n",
       "        [249, 251, 251],\n",
       "        [249, 251, 251],\n",
       "        [249, 251, 251]],\n",
       "\n",
       "       [[248, 250, 250],\n",
       "        [248, 250, 250],\n",
       "        [248, 250, 250],\n",
       "        ...,\n",
       "        [249, 251, 251],\n",
       "        [249, 251, 251],\n",
       "        [249, 251, 251]],\n",
       "\n",
       "       ...,\n",
       "\n",
       "       [[255, 255, 255],\n",
       "        [255, 255, 255],\n",
       "        [255, 255, 255],\n",
       "        ...,\n",
       "        [ 20,  22,  22],\n",
       "        [ 19,  21,  21],\n",
       "        [ 18,  20,  20]],\n",
       "\n",
       "       [[255, 255, 255],\n",
       "        [255, 255, 255],\n",
       "        [255, 255, 255],\n",
       "        ...,\n",
       "        [ 20,  22,  22],\n",
       "        [ 19,  21,  21],\n",
       "        [ 18,  20,  20]],\n",
       "\n",
       "       [[255, 255, 255],\n",
       "        [255, 255, 255],\n",
       "        [255, 255, 255],\n",
       "        ...,\n",
       "        [ 20,  22,  22],\n",
       "        [ 19,  21,  21],\n",
       "        [ 18,  20,  20]]], dtype=uint8)"
      ]
     },
     "execution_count": 7,
     "metadata": {},
     "output_type": "execute_result"
    }
   ],
   "source": [
    "label = \"Mask\" if mask > withoutMask else \"No Mask\"\n",
    "\n",
    "color = (0, 255, 0) if label == \"Mask\" else (0, 0, 255)\n",
    "\n",
    "label = \"{}: {:.2f}%\".format(label, max(mask, withoutMask) * 100)\n",
    "\n",
    "\n",
    "cv2.putText(image, label, (x, y - 10), cv2.FONT_HERSHEY_SIMPLEX, 0.45, color, 2)\n",
    "\n",
    "cv2.rectangle(image, (x, y), (x + w, y + h),color, 2)"
   ]
  },
  {
   "cell_type": "code",
   "execution_count": 8,
   "metadata": {},
   "outputs": [],
   "source": [
    "cv2.imshow('image', image)\n",
    "cv2.waitKey(0)\n",
    "cv2.destroyAllWindows()"
   ]
  },
  {
   "cell_type": "markdown",
   "metadata": {},
   "source": [
    "## Detecting Masks in Videos"
   ]
  },
  {
   "cell_type": "code",
   "execution_count": 30,
   "metadata": {},
   "outputs": [],
   "source": [
    "import numpy as np\n",
    "\n",
    "cap = cv2.VideoCapture('C:\\\\Users\\\\hinda\\\\Mask detector system\\\\video2.mp4') #for webcam, just replace the file path with 0. \n",
    "\n",
    "if cap.isOpened(): # try to get the first frame\n",
    "    rval, frame = cap.read()\n",
    "\n",
    "else:\n",
    "    rval = False\n",
    "\n",
    "while rval: \n",
    "    \n",
    "    faces_list=[]\n",
    "    preds=[]\n",
    "    \n",
    "    for (x, y, w, h) in faces:\n",
    "        \n",
    "        face_frame = frame[y:y+h,x:x+w]\n",
    "        \n",
    "        face_frame = cv2.cvtColor(face_frame, cv2.COLOR_BGR2RGB)\n",
    "        \n",
    "        face_frame = cv2.resize(face_frame, (224, 224))\n",
    "        \n",
    "        face_frame = img_to_array(face_frame)\n",
    "        \n",
    "        face_frame = np.expand_dims(face_frame, axis=0)\n",
    "        \n",
    "        face_frame =  preprocess_input(face_frame)\n",
    "        \n",
    "        faces_list.append(face_frame)\n",
    "        \n",
    "        if len(faces_list)>0:\n",
    "            \n",
    "            preds = model.predict(faces_list)\n",
    "            \n",
    "        for pred in preds:\n",
    "            \n",
    "            (mask, withoutMask) = pred\n",
    "            \n",
    "        label = \"Mask\" if mask > withoutMask else \"No Mask\"\n",
    "        \n",
    "        color = (0, 255, 0) if label == \"Mask\" else (0, 0, 255)\n",
    "        \n",
    "        label = \"{}: {:.2f}%\".format(label, max(mask, withoutMask) * 100)\n",
    "        \n",
    "        cv2.putText(frame, label, (x, y- 10),\n",
    "                    cv2.FONT_HERSHEY_SIMPLEX, 0.45, color, 2)\n",
    " \n",
    "        cv2.rectangle(frame, (x, y), (x + w, y + h),color, 2)\n",
    "    \n",
    "\n",
    "\n",
    "    #cv2.resizeWindow(\"Mask video\", 20, 20) # resizing the window\n",
    "\n",
    "    cv2.moveWindow(\"Mask video\", 1, 1) #moving the window to the corner of the screen\n",
    "\n",
    "    cv2.imshow(\"Mask video\", frame) #show the frames one by one\n",
    "\n",
    "    rval, frame = cap.read()\n",
    "\n",
    "    key = cv2.waitKey(20)\n",
    "    if key == 27: # exit on ESC\n",
    "        break\n",
    "\n",
    "cv2.destroyWindow(\"Mask video\")"
   ]
  }
 ],
 "metadata": {
  "kernelspec": {
   "display_name": "Python 3",
   "language": "python",
   "name": "python3"
  },
  "language_info": {
   "codemirror_mode": {
    "name": "ipython",
    "version": 3
   },
   "file_extension": ".py",
   "mimetype": "text/x-python",
   "name": "python",
   "nbconvert_exporter": "python",
   "pygments_lexer": "ipython3",
   "version": "3.7.6"
  }
 },
 "nbformat": 4,
 "nbformat_minor": 4
}
